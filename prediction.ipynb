{
 "cells": [
  {
   "attachments": {},
   "cell_type": "markdown",
   "metadata": {},
   "source": [
    "## Import Libraries"
   ]
  },
  {
   "cell_type": "code",
   "execution_count": 15,
   "metadata": {},
   "outputs": [],
   "source": [
    "import numpy as np \n",
    "import joblib "
   ]
  },
  {
   "attachments": {},
   "cell_type": "markdown",
   "metadata": {},
   "source": [
    "## load trained models "
   ]
  },
  {
   "cell_type": "code",
   "execution_count": 16,
   "metadata": {},
   "outputs": [],
   "source": [
    "model_lr   = joblib.load('trained_models/trained_model_lr.joblib')\n",
    "model_dtc  = joblib.load('trained_models/trained_model_dtc.joblib')\n",
    "model_lsvc = joblib.load('trained_models/trained_model_lsvc.joblib')\n",
    "model_svc  = joblib.load('trained_models/trained_model_svc.joblib')\n",
    "model_rfc  = joblib.load('trained_models/trained_model_rfc.joblib')\n",
    "model_gbc  = joblib.load('trained_models/trained_model_gbc.joblib')"
   ]
  },
  {
   "attachments": {},
   "cell_type": "markdown",
   "metadata": {},
   "source": [
    "## Create A Dummy Data "
   ]
  },
  {
   "cell_type": "code",
   "execution_count": 17,
   "metadata": {},
   "outputs": [
    {
     "name": "stdout",
     "output_type": "stream",
     "text": [
      "[[ 1.    85.    66.    29.     0.    26.6    0.351 31.   ]]\n",
      "[[  6.    148.     72.     35.      0.     33.6     0.627  50.   ]]\n"
     ]
    }
   ],
   "source": [
    "def new_data(x1, x2, x3, x4, x5, x6, x7, x8):\n",
    "    return np.array([[x1, x2, x3, x4, x5, x6, x7, x8]])\n",
    "\n",
    "data1 = new_data(1, 85, 66, 29, 0, 26.6, 0.351, 31)\n",
    "data2 = new_data(6,148,72,35,0,33.6,0.627,50)\n",
    "\n",
    "print(data1)\n",
    "print(data2)"
   ]
  },
  {
   "attachments": {},
   "cell_type": "markdown",
   "metadata": {},
   "source": [
    "## Make prediction"
   ]
  },
  {
   "cell_type": "code",
   "execution_count": null,
   "metadata": {},
   "outputs": [],
   "source": [
    "predict_lr   = model_lr.predict(data1)\n",
    "predict_dtc  = model_dtc.predict(data1)\n",
    "predict_lsvc = model_lsvc.predict(data1)\n",
    "predict_svc  = model_svc.predict(data1)\n",
    "predict_rfc  = model_rfc.predict(data1)\n",
    "predict_gbc  = model_gbc.predict(data1)"
   ]
  },
  {
   "cell_type": "code",
   "execution_count": 19,
   "metadata": {},
   "outputs": [],
   "source": [
    "def result(pred):\n",
    "    if pred == 0:\n",
    "        return 'Negative'\n",
    "    if pred == 1:\n",
    "        return 'Positive'"
   ]
  },
  {
   "attachments": {},
   "cell_type": "markdown",
   "metadata": {},
   "source": [
    "## Print the predicted results "
   ]
  },
  {
   "cell_type": "code",
   "execution_count": 20,
   "metadata": {},
   "outputs": [
    {
     "name": "stdout",
     "output_type": "stream",
     "text": [
      "LogisticRegression          :   0 - Negative\n",
      "DecisionTreeClassifier      :   0 - Negative\n",
      "LinearSVC                   :   0 - Negative\n",
      "SVC                         :   0 - Negative\n",
      "RandomForestClassifier      :   0 - Negative\n",
      "GradientBoostingClassifier  :   0 - Negative\n"
     ]
    }
   ],
   "source": [
    "print(f'LogisticRegression          :   {predict_lr[0]} - {result(predict_lr[0])}')\n",
    "print(f'DecisionTreeClassifier      :   {predict_dtc[0]} - {result(predict_dtc[0])}')\n",
    "print(f'LinearSVC                   :   {predict_lsvc[0]} - {result(predict_lsvc[0])}')\n",
    "print(f'SVC                         :   {predict_svc[0]} - {result(predict_svc[0])}')\n",
    "print(f'RandomForestClassifier      :   {predict_rfc[0]} - {result(predict_rfc[0])}')\n",
    "print(f'GradientBoostingClassifier  :   {predict_gbc[0]} - {result(predict_gbc[0])}')\n"
   ]
  },
  {
   "cell_type": "code",
   "execution_count": null,
   "metadata": {},
   "outputs": [],
   "source": [
    "predict_lr   = model_lr.predict(data2)\n",
    "predict_dtc  = model_dtc.predict(data2)\n",
    "predict_lsvc = model_lsvc.predict(data2)\n",
    "predict_svc  = model_svc.predict(data2)\n",
    "predict_rfc  = model_rfc.predict(data2)\n",
    "predict_gbc  = model_gbc.predict(data2)"
   ]
  },
  {
   "cell_type": "code",
   "execution_count": 22,
   "metadata": {},
   "outputs": [
    {
     "name": "stdout",
     "output_type": "stream",
     "text": [
      "LogisticRegression          :   1 - Positive\n",
      "DecisionTreeClassifier      :   1 - Positive\n",
      "LinearSVC                   :   0 - Negative\n",
      "SVC                         :   1 - Positive\n",
      "RandomForestClassifier      :   1 - Positive\n",
      "GradientBoostingClassifier  :   1 - Positive\n"
     ]
    }
   ],
   "source": [
    "print(f'LogisticRegression          :   {predict_lr[0]} - {result(predict_lr[0])}')\n",
    "print(f'DecisionTreeClassifier      :   {predict_dtc[0]} - {result(predict_dtc[0])}')\n",
    "print(f'LinearSVC                   :   {predict_lsvc[0]} - {result(predict_lsvc[0])}')\n",
    "print(f'SVC                         :   {predict_svc[0]} - {result(predict_svc[0])}')\n",
    "print(f'RandomForestClassifier      :   {predict_rfc[0]} - {result(predict_rfc[0])}')\n",
    "print(f'GradientBoostingClassifier  :   {predict_gbc[0]} - {result(predict_gbc[0])}')"
   ]
  }
 ],
 "metadata": {
  "kernelspec": {
   "display_name": "deeplearning",
   "language": "python",
   "name": "python3"
  },
  "language_info": {
   "codemirror_mode": {
    "name": "ipython",
    "version": 3
   },
   "file_extension": ".py",
   "mimetype": "text/x-python",
   "name": "python",
   "nbconvert_exporter": "python",
   "pygments_lexer": "ipython3",
   "version": "3.8.13"
  },
  "orig_nbformat": 4
 },
 "nbformat": 4,
 "nbformat_minor": 2
}

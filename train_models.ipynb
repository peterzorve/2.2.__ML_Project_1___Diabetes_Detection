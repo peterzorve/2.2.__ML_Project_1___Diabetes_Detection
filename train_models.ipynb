{
 "cells": [
  {
   "attachments": {},
   "cell_type": "markdown",
   "metadata": {},
   "source": [
    "## Import File Handler"
   ]
  },
  {
   "cell_type": "code",
   "execution_count": 1,
   "metadata": {},
   "outputs": [],
   "source": [
    "from file_handler import process_data"
   ]
  },
  {
   "attachments": {},
   "cell_type": "markdown",
   "metadata": {},
   "source": [
    "## Read the Data"
   ]
  },
  {
   "cell_type": "code",
   "execution_count": 3,
   "metadata": {},
   "outputs": [],
   "source": [
    "X_train, X_test, y_train, y_test = process_data('data/diabetes_data.csv')"
   ]
  },
  {
   "attachments": {},
   "cell_type": "markdown",
   "metadata": {},
   "source": [
    "## Import the Models "
   ]
  },
  {
   "cell_type": "code",
   "execution_count": 4,
   "metadata": {},
   "outputs": [],
   "source": [
    "from sklearn.linear_model   import LogisticRegression \n",
    "from sklearn.tree           import DecisionTreeClassifier\n",
    "from sklearn.svm            import LinearSVC\n",
    "from sklearn.svm            import SVC \n",
    "from sklearn.ensemble       import RandomForestClassifier \n",
    "from sklearn.ensemble       import GradientBoostingClassifier"
   ]
  },
  {
   "attachments": {},
   "cell_type": "markdown",
   "metadata": {},
   "source": [
    "## Instantiate the Models"
   ]
  },
  {
   "cell_type": "code",
   "execution_count": 5,
   "metadata": {},
   "outputs": [],
   "source": [
    "model_lr   = LogisticRegression()\n",
    "model_dtc  = DecisionTreeClassifier()\n",
    "model_lsvc = LinearSVC()\n",
    "model_svc  = SVC()\n",
    "model_rfc  = RandomForestClassifier()\n",
    "model_gbc  = GradientBoostingClassifier()"
   ]
  },
  {
   "attachments": {},
   "cell_type": "markdown",
   "metadata": {},
   "source": [
    "## Train the Models"
   ]
  },
  {
   "cell_type": "code",
   "execution_count": 11,
   "metadata": {},
   "outputs": [
    {
     "name": "stderr",
     "output_type": "stream",
     "text": [
      "c:\\Users\\zorve\\anaconda3\\envs\\deeplearning\\lib\\site-packages\\sklearn\\linear_model\\_logistic.py:814: ConvergenceWarning: lbfgs failed to converge (status=1):\n",
      "STOP: TOTAL NO. of ITERATIONS REACHED LIMIT.\n",
      "\n",
      "Increase the number of iterations (max_iter) or scale the data as shown in:\n",
      "    https://scikit-learn.org/stable/modules/preprocessing.html\n",
      "Please also refer to the documentation for alternative solver options:\n",
      "    https://scikit-learn.org/stable/modules/linear_model.html#logistic-regression\n",
      "  n_iter_i = _check_optimize_result(\n",
      "c:\\Users\\zorve\\anaconda3\\envs\\deeplearning\\lib\\site-packages\\sklearn\\svm\\_base.py:1206: ConvergenceWarning: Liblinear failed to converge, increase the number of iterations.\n",
      "  warnings.warn(\n"
     ]
    },
    {
     "data": {
      "text/plain": [
       "GradientBoostingClassifier()"
      ]
     },
     "execution_count": 11,
     "metadata": {},
     "output_type": "execute_result"
    }
   ],
   "source": [
    "model_lr.fit(X_train, y_train)\n",
    "model_dtc.fit(X_train, y_train)\n",
    "model_lsvc.fit(X_train, y_train)\n",
    "model_svc.fit(X_train, y_train)\n",
    "model_rfc.fit(X_train, y_train)\n",
    "model_gbc.fit(X_train, y_train)"
   ]
  },
  {
   "attachments": {},
   "cell_type": "markdown",
   "metadata": {},
   "source": [
    "# Save the Models"
   ]
  },
  {
   "cell_type": "code",
   "execution_count": 12,
   "metadata": {},
   "outputs": [
    {
     "data": {
      "text/plain": [
       "['trained_model_gbc.joblib']"
      ]
     },
     "execution_count": 12,
     "metadata": {},
     "output_type": "execute_result"
    }
   ],
   "source": [
    "import joblib \n",
    "\n",
    "filename_lr   = 'trained_model_lr.joblib'\n",
    "filename_dtc  = 'trained_model_dtc.joblib'\n",
    "filename_lsvc = 'trained_model_lsvc.joblib'\n",
    "filename_svc  = 'trained_model_svc.joblib'\n",
    "filename_rfc  = 'trained_model_rfc.joblib'\n",
    "filename_gbc  = 'trained_model_gbc.joblib'\n",
    "\n",
    "joblib.dump(model_lr, filename = 'trained_model_lr.joblib') \n",
    "joblib.dump(model_dtc, filename = 'trained_model_dtc.joblib') \n",
    "joblib.dump(model_lsvc, filename = 'trained_model_lsvc.joblib') \n",
    "joblib.dump(model_svc, filename = 'trained_model_svc.joblib') \n",
    "joblib.dump(model_rfc, filename = 'trained_model_rfc.joblib') \n",
    "joblib.dump(model_gbc, filename = 'trained_model_gbc.joblib') "
   ]
  },
  {
   "attachments": {},
   "cell_type": "markdown",
   "metadata": {},
   "source": [
    "## Check the accuracy of the Models "
   ]
  },
  {
   "cell_type": "code",
   "execution_count": 13,
   "metadata": {},
   "outputs": [
    {
     "name": "stdout",
     "output_type": "stream",
     "text": [
      "LogisticRegression          :   77.92 %\n",
      "DecisionTreeClassifier      :   70.13 %\n",
      "LinearSVC                   :   59.09 %\n",
      "SVC                         :   74.68 %\n",
      "RandomForestClassifier      :   74.68 %\n",
      "GradientBoostingClassifier  :   74.68 %\n"
     ]
    }
   ],
   "source": [
    "accuracy_lr   = model_lr.score(X_test, y_test)\n",
    "accuracy_dtc  = model_dtc.score(X_test, y_test)\n",
    "accuracy_lsvc = model_lsvc.score(X_test, y_test)\n",
    "accuracy_svc  = model_svc.score(X_test, y_test)\n",
    "accuracy_rfc  = model_rfc.score(X_test, y_test)\n",
    "accuracy_gbc  = model_gbc.score(X_test, y_test)\n",
    "\n",
    "print(f'LogisticRegression          :   {round(accuracy_lr   * 100, 2)} %')\n",
    "print(f'DecisionTreeClassifier      :   {round(accuracy_dtc  * 100, 2)} %')\n",
    "print(f'LinearSVC                   :   {round(accuracy_lsvc * 100, 2)} %')\n",
    "print(f'SVC                         :   {round(accuracy_svc  * 100, 2)} %')\n",
    "print(f'RandomForestClassifier      :   {round(accuracy_rfc  * 100, 2)} %')\n",
    "print(f'GradientBoostingClassifier  :   {round(accuracy_gbc  * 100, 2)} %')\n"
   ]
  }
 ],
 "metadata": {
  "kernelspec": {
   "display_name": "deeplearning",
   "language": "python",
   "name": "python3"
  },
  "language_info": {
   "codemirror_mode": {
    "name": "ipython",
    "version": 3
   },
   "file_extension": ".py",
   "mimetype": "text/x-python",
   "name": "python",
   "nbconvert_exporter": "python",
   "pygments_lexer": "ipython3",
   "version": "3.8.13"
  },
  "orig_nbformat": 4
 },
 "nbformat": 4,
 "nbformat_minor": 2
}

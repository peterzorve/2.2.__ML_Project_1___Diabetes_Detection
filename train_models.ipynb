{
 "cells": [
  {
   "attachments": {},
   "cell_type": "markdown",
   "metadata": {},
   "source": [
    "## Import File Handler"
   ]
  },
  {
   "cell_type": "code",
   "execution_count": 1,
   "metadata": {},
   "outputs": [],
   "source": [
    "from file_handler import process_data"
   ]
  },
  {
   "attachments": {},
   "cell_type": "markdown",
   "metadata": {},
   "source": [
    "## Read the Data"
   ]
  },
  {
   "cell_type": "code",
   "execution_count": 2,
   "metadata": {},
   "outputs": [],
   "source": [
    "X_train, X_test, y_train, y_test = process_data('data/diabetes_data.csv')"
   ]
  },
  {
   "attachments": {},
   "cell_type": "markdown",
   "metadata": {},
   "source": [
    "## Import the Models "
   ]
  },
  {
   "cell_type": "code",
   "execution_count": 3,
   "metadata": {},
   "outputs": [],
   "source": [
    "from sklearn.linear_model   import LogisticRegression \n",
    "from sklearn.tree           import DecisionTreeClassifier\n",
    "from sklearn.svm            import LinearSVC\n",
    "from sklearn.svm            import SVC \n",
    "from sklearn.ensemble       import RandomForestClassifier \n",
    "from sklearn.ensemble       import GradientBoostingClassifier"
   ]
  },
  {
   "attachments": {},
   "cell_type": "markdown",
   "metadata": {},
   "source": [
    "## Instantiate the Models"
   ]
  },
  {
   "cell_type": "code",
   "execution_count": 4,
   "metadata": {},
   "outputs": [],
   "source": [
    "model_lr   = LogisticRegression()\n",
    "model_dtc  = DecisionTreeClassifier()\n",
    "model_lsvc = LinearSVC()\n",
    "model_svc  = SVC()\n",
    "model_rfc  = RandomForestClassifier()\n",
    "model_gbc  = GradientBoostingClassifier()"
   ]
  },
  {
   "attachments": {},
   "cell_type": "markdown",
   "metadata": {},
   "source": [
    "## Train the Models"
   ]
  },
  {
   "cell_type": "code",
   "execution_count": null,
   "metadata": {},
   "outputs": [],
   "source": [
    "model_lr.fit(X_train, y_train)\n",
    "model_dtc.fit(X_train, y_train)\n",
    "model_lsvc.fit(X_train, y_train)\n",
    "model_svc.fit(X_train, y_train)\n",
    "model_rfc.fit(X_train, y_train)\n",
    "model_gbc.fit(X_train, y_train)"
   ]
  },
  {
   "attachments": {},
   "cell_type": "markdown",
   "metadata": {},
   "source": [
    "# Save the Models"
   ]
  },
  {
   "cell_type": "code",
   "execution_count": 6,
   "metadata": {},
   "outputs": [
    {
     "data": {
      "text/plain": [
       "['trained_models/trained_model_gbc.joblib']"
      ]
     },
     "execution_count": 6,
     "metadata": {},
     "output_type": "execute_result"
    }
   ],
   "source": [
    "import joblib \n",
    "\n",
    "filename_lr   = 'trained_models/trained_model_lr.joblib'\n",
    "filename_dtc  = 'trained_models/trained_model_dtc.joblib'\n",
    "filename_lsvc = 'trained_models/trained_model_lsvc.joblib'\n",
    "filename_svc  = 'trained_models/trained_model_svc.joblib'\n",
    "filename_rfc  = 'trained_models/trained_model_rfc.joblib'\n",
    "filename_gbc  = 'trained_models/trained_model_gbc.joblib'\n",
    "\n",
    "joblib.dump(model_lr,   filename = 'trained_models/trained_model_lr.joblib') \n",
    "joblib.dump(model_dtc,  filename = 'trained_models/trained_model_dtc.joblib') \n",
    "joblib.dump(model_lsvc, filename = 'trained_models/trained_model_lsvc.joblib') \n",
    "joblib.dump(model_svc,  filename = 'trained_models/trained_model_svc.joblib') \n",
    "joblib.dump(model_rfc,  filename = 'trained_models/trained_model_rfc.joblib') \n",
    "joblib.dump(model_gbc,  filename = 'trained_models/trained_model_gbc.joblib') "
   ]
  },
  {
   "attachments": {},
   "cell_type": "markdown",
   "metadata": {},
   "source": [
    "## Check the accuracy of the Models "
   ]
  },
  {
   "cell_type": "code",
   "execution_count": 7,
   "metadata": {},
   "outputs": [
    {
     "name": "stdout",
     "output_type": "stream",
     "text": [
      "LogisticRegression          :   78.57 %\n",
      "DecisionTreeClassifier      :   70.78 %\n",
      "LinearSVC                   :   68.83 %\n",
      "SVC                         :   76.62 %\n",
      "RandomForestClassifier      :   78.57 %\n",
      "GradientBoostingClassifier  :   77.92 %\n"
     ]
    }
   ],
   "source": [
    "accuracy_lr   = model_lr.score(X_test, y_test)\n",
    "accuracy_dtc  = model_dtc.score(X_test, y_test)\n",
    "accuracy_lsvc = model_lsvc.score(X_test, y_test)\n",
    "accuracy_svc  = model_svc.score(X_test, y_test)\n",
    "accuracy_rfc  = model_rfc.score(X_test, y_test)\n",
    "accuracy_gbc  = model_gbc.score(X_test, y_test)\n",
    "\n",
    "print(f'LogisticRegression          :   {round(accuracy_lr   * 100, 2)} %')\n",
    "print(f'DecisionTreeClassifier      :   {round(accuracy_dtc  * 100, 2)} %')\n",
    "print(f'LinearSVC                   :   {round(accuracy_lsvc * 100, 2)} %')\n",
    "print(f'SVC                         :   {round(accuracy_svc  * 100, 2)} %')\n",
    "print(f'RandomForestClassifier      :   {round(accuracy_rfc  * 100, 2)} %')\n",
    "print(f'GradientBoostingClassifier  :   {round(accuracy_gbc  * 100, 2)} %')\n"
   ]
  }
 ],
 "metadata": {
  "kernelspec": {
   "display_name": "deeplearning",
   "language": "python",
   "name": "python3"
  },
  "language_info": {
   "codemirror_mode": {
    "name": "ipython",
    "version": 3
   },
   "file_extension": ".py",
   "mimetype": "text/x-python",
   "name": "python",
   "nbconvert_exporter": "python",
   "pygments_lexer": "ipython3",
   "version": "3.8.13"
  },
  "orig_nbformat": 4
 },
 "nbformat": 4,
 "nbformat_minor": 2
}
